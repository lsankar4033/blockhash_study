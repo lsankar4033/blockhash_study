{
 "cells": [
  {
   "cell_type": "code",
   "execution_count": 25,
   "metadata": {},
   "outputs": [],
   "source": [
    "import csv\n",
    "\n",
    "potential_blockhash_rows = []\n",
    "with open('../data/0_11422029/data_000000000000', 'r') as f:\n",
    "    r = csv.reader(f, delimiter=',')\n",
    "    i = 0\n",
    "    for row in r:\n",
    "        if i == 0:\n",
    "            i += 1\n",
    "            continue\n",
    "                \n",
    "        bytecode = row[1]\n",
    "        if '40' in bytecode:\n",
    "            potential_blockhash_rows.append(row)\n",
    "            \n",
    "        i += 1"
   ]
  },
  {
   "cell_type": "code",
   "execution_count": 28,
   "metadata": {},
   "outputs": [
    {
     "name": "stdout",
     "output_type": "stream",
     "text": [
      "0 0\n",
      "10000 243\n",
      "20000 566\n",
      "30000 793\n",
      "40000 998\n",
      "50000 1243\n",
      "60000 1243\n",
      "70000 1243\n",
      "80000 1243\n",
      "90000 1243\n",
      "100000 1243\n",
      "110000 1243\n",
      "120000 1243\n",
      "130000 1243\n",
      "140000 1243\n",
      "562.3858208656311\n"
     ]
    }
   ],
   "source": [
    "import time\n",
    "from pyevmasm import disassemble_hex\n",
    "\n",
    "start = time.time()\n",
    "blockhash_rows = []\n",
    "i = 0\n",
    "for row in potential_blockhash_rows:\n",
    "    \n",
    "    if i % 10000 == 0:\n",
    "        print(i, len(blockhash_rows))\n",
    "    \n",
    "    bytecode = row[1]\n",
    "    opcodes = disassemble_hex(bytecode)\n",
    "    if 'BLOCKHASH' in opcodes:\n",
    "        blockhash_rows.append(row)\n",
    "        \n",
    "    i += 1\n",
    "    \n",
    "end = time.time()\n",
    "print(end - start)"
   ]
  },
  {
   "cell_type": "code",
   "execution_count": 30,
   "metadata": {},
   "outputs": [
    {
     "data": {
      "text/plain": [
       "1243"
      ]
     },
     "execution_count": 30,
     "metadata": {},
     "output_type": "execute_result"
    }
   ],
   "source": [
    "len(blockhash_rows)"
   ]
  },
  {
   "cell_type": "markdown",
   "metadata": {},
   "source": [
    "Next: try analyzing the bytecode in these rows to see if I can figure out in which cases BLOCKHASH is used for randomness"
   ]
  }
 ],
 "metadata": {
  "kernelspec": {
   "display_name": "blockhash_study",
   "language": "python",
   "name": "blockhash_study"
  },
  "language_info": {
   "codemirror_mode": {
    "name": "ipython",
    "version": 3
   },
   "file_extension": ".py",
   "mimetype": "text/x-python",
   "name": "python",
   "nbconvert_exporter": "python",
   "pygments_lexer": "ipython3",
   "version": "3.8.3"
  }
 },
 "nbformat": 4,
 "nbformat_minor": 4
}
